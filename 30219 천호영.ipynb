{
 "cells": [
  {
   "cell_type": "markdown",
   "metadata": {},
   "source": [
    "## 30219 천호영"
   ]
  },
  {
   "cell_type": "markdown",
   "metadata": {},
   "source": [
    "### 주제 : 인천광역시 중구 인구 남여 비교 2016년도\n"
   ]
  },
  {
   "cell_type": "markdown",
   "metadata": {},
   "source": [
    "### 출처 : https://www.data.go.kr/data/15055003/fileData.do\n",
    "- 분류체계 : 일반공공행정 - 일반행정\n",
    "- 제공기간 : 인천광역시\n",
    "- 조사기간 : 2016\n",
    "- 확장자 : .csv"
   ]
  },
  {
   "cell_type": "code",
   "execution_count": 51,
   "metadata": {},
   "outputs": [],
   "source": [
    "import pandas as pd"
   ]
  },
  {
   "cell_type": "code",
   "execution_count": 52,
   "metadata": {},
   "outputs": [],
   "source": [
    "p=r'C:\\Users\\user\\Desktop\\30219\\a1.csv'"
   ]
  },
  {
   "cell_type": "code",
   "execution_count": 58,
   "metadata": {},
   "outputs": [
    {
     "data": {
      "text/html": [
       "<div>\n",
       "<style scoped>\n",
       "    .dataframe tbody tr th:only-of-type {\n",
       "        vertical-align: middle;\n",
       "    }\n",
       "\n",
       "    .dataframe tbody tr th {\n",
       "        vertical-align: top;\n",
       "    }\n",
       "\n",
       "    .dataframe thead th {\n",
       "        text-align: right;\n",
       "    }\n",
       "</style>\n",
       "<table border=\"1\" class=\"dataframe\">\n",
       "  <thead>\n",
       "    <tr style=\"text-align: right;\">\n",
       "      <th></th>\n",
       "      <th>군구별</th>\n",
       "      <th>읍면동별</th>\n",
       "      <th>한국인_총세대 (세대)</th>\n",
       "      <th>한국인_남자인구 (명)</th>\n",
       "      <th>한국인_여자인구 (명)</th>\n",
       "      <th>외국인_남자인구 (명)</th>\n",
       "      <th>외국인_여자인구 (명)</th>\n",
       "    </tr>\n",
       "  </thead>\n",
       "  <tbody>\n",
       "    <tr>\n",
       "      <td>0</td>\n",
       "      <td>중구</td>\n",
       "      <td>신포동</td>\n",
       "      <td>2896</td>\n",
       "      <td>2868</td>\n",
       "      <td>2847</td>\n",
       "      <td>228</td>\n",
       "      <td>277</td>\n",
       "    </tr>\n",
       "    <tr>\n",
       "      <td>1</td>\n",
       "      <td>중구</td>\n",
       "      <td>연안동</td>\n",
       "      <td>3624</td>\n",
       "      <td>3928</td>\n",
       "      <td>3394</td>\n",
       "      <td>257</td>\n",
       "      <td>127</td>\n",
       "    </tr>\n",
       "    <tr>\n",
       "      <td>2</td>\n",
       "      <td>중구</td>\n",
       "      <td>신흥동</td>\n",
       "      <td>6304</td>\n",
       "      <td>7410</td>\n",
       "      <td>7128</td>\n",
       "      <td>350</td>\n",
       "      <td>213</td>\n",
       "    </tr>\n",
       "    <tr>\n",
       "      <td>3</td>\n",
       "      <td>중구</td>\n",
       "      <td>도원동</td>\n",
       "      <td>2133</td>\n",
       "      <td>2397</td>\n",
       "      <td>2257</td>\n",
       "      <td>39</td>\n",
       "      <td>59</td>\n",
       "    </tr>\n",
       "    <tr>\n",
       "      <td>4</td>\n",
       "      <td>중구</td>\n",
       "      <td>율목동</td>\n",
       "      <td>2043</td>\n",
       "      <td>2126</td>\n",
       "      <td>2001</td>\n",
       "      <td>62</td>\n",
       "      <td>95</td>\n",
       "    </tr>\n",
       "    <tr>\n",
       "      <td>5</td>\n",
       "      <td>중구</td>\n",
       "      <td>동인천동</td>\n",
       "      <td>3364</td>\n",
       "      <td>3315</td>\n",
       "      <td>2963</td>\n",
       "      <td>174</td>\n",
       "      <td>132</td>\n",
       "    </tr>\n",
       "    <tr>\n",
       "      <td>6</td>\n",
       "      <td>중구</td>\n",
       "      <td>북성동</td>\n",
       "      <td>1735</td>\n",
       "      <td>1725</td>\n",
       "      <td>1649</td>\n",
       "      <td>325</td>\n",
       "      <td>290</td>\n",
       "    </tr>\n",
       "    <tr>\n",
       "      <td>7</td>\n",
       "      <td>중구</td>\n",
       "      <td>송월동</td>\n",
       "      <td>2309</td>\n",
       "      <td>2552</td>\n",
       "      <td>2579</td>\n",
       "      <td>132</td>\n",
       "      <td>108</td>\n",
       "    </tr>\n",
       "    <tr>\n",
       "      <td>8</td>\n",
       "      <td>중구</td>\n",
       "      <td>영종동</td>\n",
       "      <td>14348</td>\n",
       "      <td>18288</td>\n",
       "      <td>17234</td>\n",
       "      <td>315</td>\n",
       "      <td>344</td>\n",
       "    </tr>\n",
       "    <tr>\n",
       "      <td>9</td>\n",
       "      <td>중구</td>\n",
       "      <td>용유동</td>\n",
       "      <td>10675</td>\n",
       "      <td>12624</td>\n",
       "      <td>11249</td>\n",
       "      <td>265</td>\n",
       "      <td>230</td>\n",
       "    </tr>\n",
       "  </tbody>\n",
       "</table>\n",
       "</div>"
      ],
      "text/plain": [
       "  군구별  읍면동별  한국인_총세대 (세대)  한국인_남자인구 (명)  한국인_여자인구 (명)  외국인_남자인구 (명)  \\\n",
       "0  중구   신포동          2896          2868          2847           228   \n",
       "1  중구   연안동          3624          3928          3394           257   \n",
       "2  중구   신흥동          6304          7410          7128           350   \n",
       "3  중구   도원동          2133          2397          2257            39   \n",
       "4  중구   율목동          2043          2126          2001            62   \n",
       "5  중구  동인천동          3364          3315          2963           174   \n",
       "6  중구   북성동          1735          1725          1649           325   \n",
       "7  중구   송월동          2309          2552          2579           132   \n",
       "8  중구   영종동         14348         18288         17234           315   \n",
       "9  중구   용유동         10675         12624         11249           265   \n",
       "\n",
       "   외국인_여자인구 (명)  \n",
       "0           277  \n",
       "1           127  \n",
       "2           213  \n",
       "3            59  \n",
       "4            95  \n",
       "5           132  \n",
       "6           290  \n",
       "7           108  \n",
       "8           344  \n",
       "9           230  "
      ]
     },
     "execution_count": 58,
     "metadata": {},
     "output_type": "execute_result"
    }
   ],
   "source": [
    "df=pd.read_csv(p, encoding='cp949')\n",
    "df.head(10)"
   ]
  },
  {
   "cell_type": "code",
   "execution_count": 59,
   "metadata": {},
   "outputs": [],
   "source": [
    "import matplotlib.pyplot as plt\n",
    "plt.rc('font', family='gulim', size=10)"
   ]
  },
  {
   "cell_type": "code",
   "execution_count": 69,
   "metadata": {},
   "outputs": [],
   "source": [
    "y=df['읍면동별'].head(10)\n",
    "x=df['한국인_남자인구 (명)'].head(10)\n",
    "x1=df['한국인_여자인구 (명)'].head(10)\n",
    "x2=df['외국인_남자인구 (명)'].head(10)\n",
    "x3=df['외국인_여자인구 (명)'].head(10)"
   ]
  },
  {
   "cell_type": "code",
   "execution_count": 83,
   "metadata": {},
   "outputs": [
    {
     "data": {
      "text/plain": [
       "<matplotlib.legend.Legend at 0x24485bf8d48>"
      ]
     },
     "execution_count": 83,
     "metadata": {},
     "output_type": "execute_result"
    },
    {
     "data": {
      "image/png": "[encoded data removed]",
      "text/plain": [
       "<Figure size 432x288 with 1 Axes>"
      ]
     },
     "metadata": {
      "needs_background": "light"
     },
     "output_type": "display_data"
    }
   ],
   "source": [
    "plt.xlabel('중구의 읍면동별')\n",
    "plt.ylabel('인구 (명)')\n",
    "plt.title('2016년도 중구의 남여 인구 차이')\n",
    "plt.plot(y,x,'-^',color='blue')\n",
    "plt.plot(y,x1,'--*',color='hotpink')\n",
    "plt.legend(['한국인 남자 인구 (명)','한국인 여자 인구 (명)'])"
   ]
  },
  {
   "cell_type": "markdown",
   "metadata": {},
   "source": [
    "##  중구의 한국인 남녀 거주 비율"
   ]
  },
  {
   "cell_type": "code",
   "execution_count": 84,
   "metadata": {},
   "outputs": [
    {
     "data": {
      "text/plain": [
       "<matplotlib.legend.Legend at 0x24485c76d88>"
      ]
     },
     "execution_count": 84,
     "metadata": {},
     "output_type": "execute_result"
    },
    {
     "data": {
      "image/png": "[encoded data removed]",
      "text/plain": [
       "<Figure size 432x288 with 1 Axes>"
      ]
     },
     "metadata": {
      "needs_background": "light"
     },
     "output_type": "display_data"
    }
   ],
   "source": [
    "plt.xlabel('중구의 읍면동별')\n",
    "plt.ylabel('인구 (명)')\n",
    "plt.title('2016년도 중구의 외국인 남여 인구 차이')\n",
    "plt.plot(y,x2,'-^',color='blue')\n",
    "plt.plot(y,x3,'--*',color='hotpink')\n",
    "plt.legend(['외국인 남자 인구 (명)','외국 여자 인구 (명)'])"
   ]
  },
  {
   "cell_type": "markdown",
   "metadata": {},
   "source": [
    "##  중구의 외국인 남녀 거주 비율"
   ]
  },
  {
   "cell_type": "markdown",
   "metadata": {},
   "source": [
    "### 느낀점\n",
    "한국인 남여 비율이 비슷하게 거주하고있어 신기했다\n"
   ]
  }
 ],
 "metadata": {
  "kernelspec": {
   "display_name": "Python 3",
   "language": "python",
   "name": "python3"
  },
  "language_info": {
   "codemirror_mode": {
    "name": "ipython",
    "version": 3
   },
   "file_extension": ".py",
   "mimetype": "text/x-python",
   "name": "python",
   "nbconvert_exporter": "python",
   "pygments_lexer": "ipython3",
   "version": "3.7.4"
  }
 },
 "nbformat": 4,
 "nbformat_minor": 2
}
